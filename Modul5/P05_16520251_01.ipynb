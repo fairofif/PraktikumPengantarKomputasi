{
 "cells": [
  {
   "cell_type": "markdown",
   "metadata": {},
   "source": [
    "# Problem 1"
   ]
  },
  {
   "cell_type": "markdown",
   "metadata": {},
   "source": [
    "NIM : 16520251"
   ]
  },
  {
   "cell_type": "markdown",
   "metadata": {},
   "source": [
    "Nama : Rofif Fairuz Hawary"
   ]
  },
  {
   "cell_type": "markdown",
   "metadata": {},
   "source": [
    "Sesi/Kelas : 3.1/D"
   ]
  },
  {
   "cell_type": "markdown",
   "metadata": {},
   "source": [
    "Tanggal : 16 Desember 2020"
   ]
  },
  {
   "cell_type": "markdown",
   "metadata": {},
   "source": [
    "Deskripsi : problem 1 praktikum modul 5"
   ]
  },
  {
   "cell_type": "code",
   "execution_count": 1,
   "metadata": {},
   "outputs": [],
   "source": [
    "import pandas as pd"
   ]
  },
  {
   "cell_type": "markdown",
   "metadata": {},
   "source": [
    "## Data Collecting"
   ]
  },
  {
   "cell_type": "code",
   "execution_count": 2,
   "metadata": {},
   "outputs": [],
   "source": [
    "df = pd.read_csv(\"crypto.csv\")"
   ]
  },
  {
   "cell_type": "markdown",
   "metadata": {},
   "source": [
    "## Data Observation"
   ]
  },
  {
   "cell_type": "markdown",
   "metadata": {},
   "source": [
    "#### 1. Menentukan banyak data"
   ]
  },
  {
   "cell_type": "code",
   "execution_count": 3,
   "metadata": {},
   "outputs": [
    {
     "data": {
      "text/plain": [
       "8219"
      ]
     },
     "execution_count": 3,
     "metadata": {},
     "output_type": "execute_result"
    }
   ],
   "source": [
    "len(df)"
   ]
  },
  {
   "cell_type": "markdown",
   "metadata": {},
   "source": [
    "#### 2. 10 Data pertama"
   ]
  },
  {
   "cell_type": "code",
   "execution_count": 4,
   "metadata": {},
   "outputs": [
    {
     "data": {
      "text/html": [
       "<div>\n",
       "<style scoped>\n",
       "    .dataframe tbody tr th:only-of-type {\n",
       "        vertical-align: middle;\n",
       "    }\n",
       "\n",
       "    .dataframe tbody tr th {\n",
       "        vertical-align: top;\n",
       "    }\n",
       "\n",
       "    .dataframe thead th {\n",
       "        text-align: right;\n",
       "    }\n",
       "</style>\n",
       "<table border=\"1\" class=\"dataframe\">\n",
       "  <thead>\n",
       "    <tr style=\"text-align: right;\">\n",
       "      <th></th>\n",
       "      <th>name</th>\n",
       "      <th>date</th>\n",
       "      <th>ranknow</th>\n",
       "      <th>open</th>\n",
       "      <th>high</th>\n",
       "      <th>low</th>\n",
       "      <th>close</th>\n",
       "      <th>volume</th>\n",
       "      <th>market</th>\n",
       "      <th>close_ratio</th>\n",
       "      <th>spread</th>\n",
       "    </tr>\n",
       "  </thead>\n",
       "  <tbody>\n",
       "    <tr>\n",
       "      <th>0</th>\n",
       "      <td>BTC</td>\n",
       "      <td>2013-04-28</td>\n",
       "      <td>1</td>\n",
       "      <td>135.30</td>\n",
       "      <td>135.98</td>\n",
       "      <td>132.10</td>\n",
       "      <td>134.21</td>\n",
       "      <td>0.0</td>\n",
       "      <td>1.488567e+09</td>\n",
       "      <td>0.5438</td>\n",
       "      <td>3.88</td>\n",
       "    </tr>\n",
       "    <tr>\n",
       "      <th>1</th>\n",
       "      <td>BTC</td>\n",
       "      <td>2013-04-29</td>\n",
       "      <td>1</td>\n",
       "      <td>134.44</td>\n",
       "      <td>147.49</td>\n",
       "      <td>134.00</td>\n",
       "      <td>144.54</td>\n",
       "      <td>0.0</td>\n",
       "      <td>1.603769e+09</td>\n",
       "      <td>0.7813</td>\n",
       "      <td>13.49</td>\n",
       "    </tr>\n",
       "    <tr>\n",
       "      <th>2</th>\n",
       "      <td>BTC</td>\n",
       "      <td>2013-04-30</td>\n",
       "      <td>1</td>\n",
       "      <td>144.00</td>\n",
       "      <td>146.93</td>\n",
       "      <td>134.05</td>\n",
       "      <td>139.00</td>\n",
       "      <td>0.0</td>\n",
       "      <td>1.542813e+09</td>\n",
       "      <td>0.3843</td>\n",
       "      <td>12.88</td>\n",
       "    </tr>\n",
       "    <tr>\n",
       "      <th>3</th>\n",
       "      <td>BTC</td>\n",
       "      <td>2013-05-01</td>\n",
       "      <td>1</td>\n",
       "      <td>139.00</td>\n",
       "      <td>139.89</td>\n",
       "      <td>107.72</td>\n",
       "      <td>116.99</td>\n",
       "      <td>0.0</td>\n",
       "      <td>1.298955e+09</td>\n",
       "      <td>0.2882</td>\n",
       "      <td>32.17</td>\n",
       "    </tr>\n",
       "    <tr>\n",
       "      <th>4</th>\n",
       "      <td>BTC</td>\n",
       "      <td>2013-05-02</td>\n",
       "      <td>1</td>\n",
       "      <td>116.38</td>\n",
       "      <td>125.60</td>\n",
       "      <td>92.28</td>\n",
       "      <td>105.21</td>\n",
       "      <td>0.0</td>\n",
       "      <td>1.168517e+09</td>\n",
       "      <td>0.3881</td>\n",
       "      <td>33.32</td>\n",
       "    </tr>\n",
       "    <tr>\n",
       "      <th>5</th>\n",
       "      <td>BTC</td>\n",
       "      <td>2013-05-03</td>\n",
       "      <td>1</td>\n",
       "      <td>106.25</td>\n",
       "      <td>108.13</td>\n",
       "      <td>79.10</td>\n",
       "      <td>97.75</td>\n",
       "      <td>0.0</td>\n",
       "      <td>1.085995e+09</td>\n",
       "      <td>0.6424</td>\n",
       "      <td>29.03</td>\n",
       "    </tr>\n",
       "    <tr>\n",
       "      <th>6</th>\n",
       "      <td>BTC</td>\n",
       "      <td>2013-05-04</td>\n",
       "      <td>1</td>\n",
       "      <td>98.10</td>\n",
       "      <td>115.00</td>\n",
       "      <td>92.50</td>\n",
       "      <td>112.50</td>\n",
       "      <td>0.0</td>\n",
       "      <td>1.250317e+09</td>\n",
       "      <td>0.8889</td>\n",
       "      <td>22.50</td>\n",
       "    </tr>\n",
       "    <tr>\n",
       "      <th>7</th>\n",
       "      <td>BTC</td>\n",
       "      <td>2013-05-05</td>\n",
       "      <td>1</td>\n",
       "      <td>112.90</td>\n",
       "      <td>118.80</td>\n",
       "      <td>107.14</td>\n",
       "      <td>115.91</td>\n",
       "      <td>0.0</td>\n",
       "      <td>1.288693e+09</td>\n",
       "      <td>0.7521</td>\n",
       "      <td>11.66</td>\n",
       "    </tr>\n",
       "    <tr>\n",
       "      <th>8</th>\n",
       "      <td>BTC</td>\n",
       "      <td>2013-05-06</td>\n",
       "      <td>1</td>\n",
       "      <td>115.98</td>\n",
       "      <td>124.66</td>\n",
       "      <td>106.64</td>\n",
       "      <td>112.30</td>\n",
       "      <td>0.0</td>\n",
       "      <td>1.249023e+09</td>\n",
       "      <td>0.3141</td>\n",
       "      <td>18.02</td>\n",
       "    </tr>\n",
       "    <tr>\n",
       "      <th>9</th>\n",
       "      <td>BTC</td>\n",
       "      <td>2013-05-07</td>\n",
       "      <td>1</td>\n",
       "      <td>112.25</td>\n",
       "      <td>113.44</td>\n",
       "      <td>97.70</td>\n",
       "      <td>111.50</td>\n",
       "      <td>0.0</td>\n",
       "      <td>1.240594e+09</td>\n",
       "      <td>0.8767</td>\n",
       "      <td>15.74</td>\n",
       "    </tr>\n",
       "  </tbody>\n",
       "</table>\n",
       "</div>"
      ],
      "text/plain": [
       "  name        date  ranknow    open    high     low   close  volume  \\\n",
       "0  BTC  2013-04-28        1  135.30  135.98  132.10  134.21     0.0   \n",
       "1  BTC  2013-04-29        1  134.44  147.49  134.00  144.54     0.0   \n",
       "2  BTC  2013-04-30        1  144.00  146.93  134.05  139.00     0.0   \n",
       "3  BTC  2013-05-01        1  139.00  139.89  107.72  116.99     0.0   \n",
       "4  BTC  2013-05-02        1  116.38  125.60   92.28  105.21     0.0   \n",
       "5  BTC  2013-05-03        1  106.25  108.13   79.10   97.75     0.0   \n",
       "6  BTC  2013-05-04        1   98.10  115.00   92.50  112.50     0.0   \n",
       "7  BTC  2013-05-05        1  112.90  118.80  107.14  115.91     0.0   \n",
       "8  BTC  2013-05-06        1  115.98  124.66  106.64  112.30     0.0   \n",
       "9  BTC  2013-05-07        1  112.25  113.44   97.70  111.50     0.0   \n",
       "\n",
       "         market  close_ratio  spread  \n",
       "0  1.488567e+09       0.5438    3.88  \n",
       "1  1.603769e+09       0.7813   13.49  \n",
       "2  1.542813e+09       0.3843   12.88  \n",
       "3  1.298955e+09       0.2882   32.17  \n",
       "4  1.168517e+09       0.3881   33.32  \n",
       "5  1.085995e+09       0.6424   29.03  \n",
       "6  1.250317e+09       0.8889   22.50  \n",
       "7  1.288693e+09       0.7521   11.66  \n",
       "8  1.249023e+09       0.3141   18.02  \n",
       "9  1.240594e+09       0.8767   15.74  "
      ]
     },
     "execution_count": 4,
     "metadata": {},
     "output_type": "execute_result"
    }
   ],
   "source": [
    "df[:10]"
   ]
  },
  {
   "cell_type": "markdown",
   "metadata": {},
   "source": [
    "#### 3. Data ke 200 sampai 204"
   ]
  },
  {
   "cell_type": "markdown",
   "metadata": {},
   "source": [
    "asumsi bahwa data ke-x merupakan urutan ke-x"
   ]
  },
  {
   "cell_type": "code",
   "execution_count": 5,
   "metadata": {},
   "outputs": [
    {
     "data": {
      "text/html": [
       "<div>\n",
       "<style scoped>\n",
       "    .dataframe tbody tr th:only-of-type {\n",
       "        vertical-align: middle;\n",
       "    }\n",
       "\n",
       "    .dataframe tbody tr th {\n",
       "        vertical-align: top;\n",
       "    }\n",
       "\n",
       "    .dataframe thead th {\n",
       "        text-align: right;\n",
       "    }\n",
       "</style>\n",
       "<table border=\"1\" class=\"dataframe\">\n",
       "  <thead>\n",
       "    <tr style=\"text-align: right;\">\n",
       "      <th></th>\n",
       "      <th>name</th>\n",
       "      <th>date</th>\n",
       "      <th>ranknow</th>\n",
       "      <th>open</th>\n",
       "      <th>high</th>\n",
       "      <th>low</th>\n",
       "      <th>close</th>\n",
       "      <th>volume</th>\n",
       "      <th>market</th>\n",
       "      <th>close_ratio</th>\n",
       "      <th>spread</th>\n",
       "    </tr>\n",
       "  </thead>\n",
       "  <tbody>\n",
       "    <tr>\n",
       "      <th>199</th>\n",
       "      <td>BTC</td>\n",
       "      <td>2013-11-13</td>\n",
       "      <td>1</td>\n",
       "      <td>360.97</td>\n",
       "      <td>414.05</td>\n",
       "      <td>359.80</td>\n",
       "      <td>407.37</td>\n",
       "      <td>0.0</td>\n",
       "      <td>4.883103e+09</td>\n",
       "      <td>0.8769</td>\n",
       "      <td>54.25</td>\n",
       "    </tr>\n",
       "    <tr>\n",
       "      <th>200</th>\n",
       "      <td>BTC</td>\n",
       "      <td>2013-11-14</td>\n",
       "      <td>1</td>\n",
       "      <td>406.41</td>\n",
       "      <td>425.90</td>\n",
       "      <td>395.19</td>\n",
       "      <td>420.20</td>\n",
       "      <td>0.0</td>\n",
       "      <td>5.038818e+09</td>\n",
       "      <td>0.8144</td>\n",
       "      <td>30.71</td>\n",
       "    </tr>\n",
       "    <tr>\n",
       "      <th>201</th>\n",
       "      <td>BTC</td>\n",
       "      <td>2013-11-15</td>\n",
       "      <td>1</td>\n",
       "      <td>419.41</td>\n",
       "      <td>437.89</td>\n",
       "      <td>396.11</td>\n",
       "      <td>417.95</td>\n",
       "      <td>0.0</td>\n",
       "      <td>5.013561e+09</td>\n",
       "      <td>0.5227</td>\n",
       "      <td>41.78</td>\n",
       "    </tr>\n",
       "    <tr>\n",
       "      <th>202</th>\n",
       "      <td>BTC</td>\n",
       "      <td>2013-11-16</td>\n",
       "      <td>1</td>\n",
       "      <td>417.28</td>\n",
       "      <td>450.26</td>\n",
       "      <td>415.57</td>\n",
       "      <td>440.22</td>\n",
       "      <td>0.0</td>\n",
       "      <td>5.282849e+09</td>\n",
       "      <td>0.7106</td>\n",
       "      <td>34.69</td>\n",
       "    </tr>\n",
       "    <tr>\n",
       "      <th>203</th>\n",
       "      <td>BTC</td>\n",
       "      <td>2013-11-17</td>\n",
       "      <td>1</td>\n",
       "      <td>440.96</td>\n",
       "      <td>500.58</td>\n",
       "      <td>440.24</td>\n",
       "      <td>492.11</td>\n",
       "      <td>0.0</td>\n",
       "      <td>5.907842e+09</td>\n",
       "      <td>0.8596</td>\n",
       "      <td>60.34</td>\n",
       "    </tr>\n",
       "  </tbody>\n",
       "</table>\n",
       "</div>"
      ],
      "text/plain": [
       "    name        date  ranknow    open    high     low   close  volume  \\\n",
       "199  BTC  2013-11-13        1  360.97  414.05  359.80  407.37     0.0   \n",
       "200  BTC  2013-11-14        1  406.41  425.90  395.19  420.20     0.0   \n",
       "201  BTC  2013-11-15        1  419.41  437.89  396.11  417.95     0.0   \n",
       "202  BTC  2013-11-16        1  417.28  450.26  415.57  440.22     0.0   \n",
       "203  BTC  2013-11-17        1  440.96  500.58  440.24  492.11     0.0   \n",
       "\n",
       "           market  close_ratio  spread  \n",
       "199  4.883103e+09       0.8769   54.25  \n",
       "200  5.038818e+09       0.8144   30.71  \n",
       "201  5.013561e+09       0.5227   41.78  \n",
       "202  5.282849e+09       0.7106   34.69  \n",
       "203  5.907842e+09       0.8596   60.34  "
      ]
     },
     "execution_count": 5,
     "metadata": {},
     "output_type": "execute_result"
    }
   ],
   "source": [
    "df[199:204]"
   ]
  },
  {
   "cell_type": "markdown",
   "metadata": {},
   "source": [
    "asumsi bahwa data ke-x merupakan data pada index baris ke-x"
   ]
  },
  {
   "cell_type": "code",
   "execution_count": 6,
   "metadata": {},
   "outputs": [
    {
     "data": {
      "text/html": [
       "<div>\n",
       "<style scoped>\n",
       "    .dataframe tbody tr th:only-of-type {\n",
       "        vertical-align: middle;\n",
       "    }\n",
       "\n",
       "    .dataframe tbody tr th {\n",
       "        vertical-align: top;\n",
       "    }\n",
       "\n",
       "    .dataframe thead th {\n",
       "        text-align: right;\n",
       "    }\n",
       "</style>\n",
       "<table border=\"1\" class=\"dataframe\">\n",
       "  <thead>\n",
       "    <tr style=\"text-align: right;\">\n",
       "      <th></th>\n",
       "      <th>name</th>\n",
       "      <th>date</th>\n",
       "      <th>ranknow</th>\n",
       "      <th>open</th>\n",
       "      <th>high</th>\n",
       "      <th>low</th>\n",
       "      <th>close</th>\n",
       "      <th>volume</th>\n",
       "      <th>market</th>\n",
       "      <th>close_ratio</th>\n",
       "      <th>spread</th>\n",
       "    </tr>\n",
       "  </thead>\n",
       "  <tbody>\n",
       "    <tr>\n",
       "      <th>200</th>\n",
       "      <td>BTC</td>\n",
       "      <td>2013-11-14</td>\n",
       "      <td>1</td>\n",
       "      <td>406.41</td>\n",
       "      <td>425.90</td>\n",
       "      <td>395.19</td>\n",
       "      <td>420.20</td>\n",
       "      <td>0.0</td>\n",
       "      <td>5.038818e+09</td>\n",
       "      <td>0.8144</td>\n",
       "      <td>30.71</td>\n",
       "    </tr>\n",
       "    <tr>\n",
       "      <th>201</th>\n",
       "      <td>BTC</td>\n",
       "      <td>2013-11-15</td>\n",
       "      <td>1</td>\n",
       "      <td>419.41</td>\n",
       "      <td>437.89</td>\n",
       "      <td>396.11</td>\n",
       "      <td>417.95</td>\n",
       "      <td>0.0</td>\n",
       "      <td>5.013561e+09</td>\n",
       "      <td>0.5227</td>\n",
       "      <td>41.78</td>\n",
       "    </tr>\n",
       "    <tr>\n",
       "      <th>202</th>\n",
       "      <td>BTC</td>\n",
       "      <td>2013-11-16</td>\n",
       "      <td>1</td>\n",
       "      <td>417.28</td>\n",
       "      <td>450.26</td>\n",
       "      <td>415.57</td>\n",
       "      <td>440.22</td>\n",
       "      <td>0.0</td>\n",
       "      <td>5.282849e+09</td>\n",
       "      <td>0.7106</td>\n",
       "      <td>34.69</td>\n",
       "    </tr>\n",
       "    <tr>\n",
       "      <th>203</th>\n",
       "      <td>BTC</td>\n",
       "      <td>2013-11-17</td>\n",
       "      <td>1</td>\n",
       "      <td>440.96</td>\n",
       "      <td>500.58</td>\n",
       "      <td>440.24</td>\n",
       "      <td>492.11</td>\n",
       "      <td>0.0</td>\n",
       "      <td>5.907842e+09</td>\n",
       "      <td>0.8596</td>\n",
       "      <td>60.34</td>\n",
       "    </tr>\n",
       "    <tr>\n",
       "      <th>204</th>\n",
       "      <td>BTC</td>\n",
       "      <td>2013-11-18</td>\n",
       "      <td>1</td>\n",
       "      <td>496.58</td>\n",
       "      <td>703.78</td>\n",
       "      <td>494.94</td>\n",
       "      <td>703.56</td>\n",
       "      <td>0.0</td>\n",
       "      <td>8.449070e+09</td>\n",
       "      <td>0.9989</td>\n",
       "      <td>208.84</td>\n",
       "    </tr>\n",
       "  </tbody>\n",
       "</table>\n",
       "</div>"
      ],
      "text/plain": [
       "    name        date  ranknow    open    high     low   close  volume  \\\n",
       "200  BTC  2013-11-14        1  406.41  425.90  395.19  420.20     0.0   \n",
       "201  BTC  2013-11-15        1  419.41  437.89  396.11  417.95     0.0   \n",
       "202  BTC  2013-11-16        1  417.28  450.26  415.57  440.22     0.0   \n",
       "203  BTC  2013-11-17        1  440.96  500.58  440.24  492.11     0.0   \n",
       "204  BTC  2013-11-18        1  496.58  703.78  494.94  703.56     0.0   \n",
       "\n",
       "           market  close_ratio  spread  \n",
       "200  5.038818e+09       0.8144   30.71  \n",
       "201  5.013561e+09       0.5227   41.78  \n",
       "202  5.282849e+09       0.7106   34.69  \n",
       "203  5.907842e+09       0.8596   60.34  \n",
       "204  8.449070e+09       0.9989  208.84  "
      ]
     },
     "execution_count": 6,
     "metadata": {},
     "output_type": "execute_result"
    }
   ],
   "source": [
    "df[200:205]"
   ]
  },
  {
   "cell_type": "markdown",
   "metadata": {},
   "source": [
    "#### 4. Jumlah data masing-masing koin"
   ]
  },
  {
   "cell_type": "code",
   "execution_count": 8,
   "metadata": {},
   "outputs": [
    {
     "data": {
      "text/plain": [
       "BTC     2042\n",
       "XRP     1944\n",
       "XMR     1653\n",
       "USDT    1369\n",
       "ETH     1211\n",
       "Name: name, dtype: int64"
      ]
     },
     "execution_count": 8,
     "metadata": {},
     "output_type": "execute_result"
    }
   ],
   "source": [
    "df[\"name\"].value_counts()"
   ]
  },
  {
   "cell_type": "markdown",
   "metadata": {},
   "source": [
    "#### 5. Nilai korelasi antara close dan open"
   ]
  },
  {
   "cell_type": "code",
   "execution_count": 11,
   "metadata": {},
   "outputs": [
    {
     "data": {
      "text/plain": [
       "0.9982130769363813"
      ]
     },
     "execution_count": 11,
     "metadata": {},
     "output_type": "execute_result"
    }
   ],
   "source": [
    "df[\"close\"].corr(df[\"open\"])"
   ]
  },
  {
   "cell_type": "markdown",
   "metadata": {},
   "source": [
    "karena nilai koefisien korelasi anatara nilai close dan nilai open adalah mendekati 1, maka antara nilai close dan nilai open memiliki nilai korelasi berbanding lurus"
   ]
  }
 ],
 "metadata": {
  "kernelspec": {
   "display_name": "Python 3",
   "language": "python",
   "name": "python3"
  },
  "language_info": {
   "codemirror_mode": {
    "name": "ipython",
    "version": 3
   },
   "file_extension": ".py",
   "mimetype": "text/x-python",
   "name": "python",
   "nbconvert_exporter": "python",
   "pygments_lexer": "ipython3",
   "version": "3.8.3"
  }
 },
 "nbformat": 4,
 "nbformat_minor": 4
}
